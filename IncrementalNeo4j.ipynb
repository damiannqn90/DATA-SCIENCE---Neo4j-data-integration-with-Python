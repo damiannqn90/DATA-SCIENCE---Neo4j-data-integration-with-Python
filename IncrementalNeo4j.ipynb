{
 "cells": [
  {
   "cell_type": "code",
   "execution_count": 6,
   "metadata": {},
   "outputs": [],
   "source": [
    "from neo4j import GraphDatabase"
   ]
  },
  {
   "cell_type": "code",
   "execution_count": 8,
   "metadata": {},
   "outputs": [],
   "source": [
    "uri = \"neo4j://localhost:7687\"\n",
    "driver = GraphDatabase.driver(uri, auth=(\"neo4j\", \"Sistemas2021\"))"
   ]
  },
  {
   "cell_type": "code",
   "execution_count": 9,
   "metadata": {},
   "outputs": [
    {
     "name": "stdout",
     "output_type": "stream",
     "text": [
      "(618445, 10)\n",
      "          CUIT        CUIT_CG                DENOMINACION    TIPO       SEXO  \\\n",
      "0  20232063980  20-23206398-0       LINGUA HECTOR OSVALDO  FISICA  MASCULINO   \n",
      "1  27337001233  27-33700123-3         OCAÑO MELINA MAGALI  FISICA   FEMENINO   \n",
      "2  20338308583  20-33830858-3      RAMOS SILVEYRA LEANDRO  FISICA  MASCULINO   \n",
      "3  27175580110  27-17558011-0     MORELLO RAMONA GRACIELA  FISICA   FEMENINO   \n",
      "4  27397351969  27-39735196-9  ABELDAÑO FLORENCIA LUCIANA  FISICA   FEMENINO   \n",
      "5  27033392791  27-03339279-1     PERUCHOUD ODARAY TERESA  FISICA   FEMENINO   \n",
      "6  23032410154  23-03241015-4     BUSQUETS MARIA GERONIMA  FISICA   FEMENINO   \n",
      "7  20933898475  20-93389847-5      ZAPATA MARIANO CARMELO  FISICA  MASCULINO   \n",
      "8  27366786657  27-36678665-7     GALASSI JOANA MAGDALENA  FISICA   FEMENINO   \n",
      "9  23039588374  23-03958837-4      NAVARRETE LIDIA ZULEMA  FISICA   FEMENINO   \n",
      "\n",
      "   NACIMIENTO FALLECIMIENTO FORMA_JURIDICA  ESTADO    FEC_ALTA  \n",
      "0  16/10/1973           NaN            NaN  ACTIVO  2021-12-29  \n",
      "1   19/4/1988           NaN            NaN  ACTIVO  2022-05-02  \n",
      "2   22/6/1988           NaN            NaN  ACTIVO  2022-01-03  \n",
      "3  15/12/1965           NaN            NaN  ACTIVO  2022-03-17  \n",
      "4  15/12/1995           NaN            NaN  ACTIVO  2022-01-12  \n",
      "5  20/10/1933     27/3/2022            NaN  ACTIVO  2022-04-04  \n",
      "6   23/8/1934    17/12/2021            NaN  ACTIVO  2022-01-10  \n",
      "7   16/7/1939      5/2/2022            NaN  ACTIVO  2022-02-21  \n",
      "8    7/5/1992           NaN            NaN  ACTIVO  2022-02-08  \n",
      "9    8/2/1941      3/3/2022            NaN  ACTIVO  2022-03-14  \n",
      "CUIT               int64\n",
      "CUIT_CG           object\n",
      "DENOMINACION      object\n",
      "TIPO              object\n",
      "SEXO              object\n",
      "NACIMIENTO        object\n",
      "FALLECIMIENTO     object\n",
      "FORMA_JURIDICA    object\n",
      "ESTADO            object\n",
      "FEC_ALTA          object\n",
      "dtype: object\n"
     ]
    }
   ],
   "source": [
    "import pandas\n",
    "filename = \"CUITS.csv\" \n",
    "data = pandas.read_csv(filename, header=0)\n",
    "\n",
    "print(data.shape)\n",
    "print (data.head(10))\n",
    "print (data.dtypes)"
   ]
  },
  {
   "cell_type": "code",
   "execution_count": 10,
   "metadata": {},
   "outputs": [],
   "source": [
    "params=[]\n",
    "statement = \"\"\"\n",
    "UNWIND $parameters as row\n",
    "WITH row\n",
    "MERGE (c:Cuit {CUIT: tostring(row.CUIT)})\n",
    "ON CREATE SET\n",
    "c.CUIT_CG = tostring(row.CUIT_CG),\n",
    "c.DENOMINACION = tostring(row.DENOMINACION), \n",
    "c.TIPO =  tostring(row.TIPO),\n",
    "c.SEXO = tostring(row.SEXO), \n",
    "c.NACIEMIENTO = tostring(row.NACIMIENTO),\n",
    "c.FALLECIMIENTO = tostring(row.FALLECIMIENTO),\n",
    "c.FORMA_JURIDICA = tostring(row.FORMA_JURIDICA), \n",
    "c.ESTADO = tostring(row.ESTADO),\n",
    "c.FEC_ALTA= tostring(row.FEC_ALTA)\n",
    "\"\"\"\n",
    "\n",
    "with driver.session() as session:\n",
    "    for index, row in data.iterrows(): \n",
    "        params_dict = {\n",
    "                'CUIT' : row ['CUIT'],\n",
    "                'CUIT_CG' :row ['CUIT_CG'],\n",
    "                'DENOMINACION': row ['DENOMINACION'],\n",
    "                'TIPO': row ['TIPO'],\n",
    "                'SEXO': row ['SEXO'],\n",
    "                'NACIMIENTO': row ['NACIMIENTO'],\n",
    "                'FALLECIMIENTO': row ['FALLECIMIENTO'],\n",
    "                'FORMA_JURIDICA': row ['FORMA_JURIDICA'],\n",
    "                'ESTADO': row ['ESTADO'],\n",
    "                'FEC_ALTA': row ['FEC_ALTA']\n",
    "        }\n",
    "        params.append(params_dict)\n",
    "        if index % 20 == 0 and index > 0: \n",
    "            session.run(statement, parameters = {'parameters':params})\n",
    "            params=[]  \n",
    "        session.run(statement, parameters = {'parameters':params})\n",
    "    session.close()"
   ]
  },
  {
   "cell_type": "code",
   "execution_count": 11,
   "metadata": {},
   "outputs": [],
   "source": [
    "from neo4j import GraphDatabase\n",
    "uri = \"neo4j://localhost:7687\"\n",
    "driver = GraphDatabase.driver(uri, auth=(\"neo4j\", \"Sistemas2021\"))"
   ]
  },
  {
   "cell_type": "code",
   "execution_count": 12,
   "metadata": {},
   "outputs": [
    {
     "name": "stdout",
     "output_type": "stream",
     "text": [
      "(22590, 4)\n",
      "        ID_GANANCIAS     GAN_CUIT  GAN_CUIT_CONTADOR  PERIODO\n",
      "0  20210030707227423  30707227423       2.028082e+10     2021\n",
      "1  20210030712197540  30712197540       2.026017e+10     2021\n",
      "2  20210030516070524  30516070524       2.714418e+10     2021\n",
      "3  20210030654364911  30654364911       2.013664e+10     2021\n",
      "4  20210030651692632  30651692632       2.012929e+10     2021\n",
      "5  20210030715097202  30715097202       3.371386e+10     2021\n",
      "6  20210030711586799  30711586799       2.735528e+10     2021\n",
      "7  20210030585192534  30585192534       2.013509e+10     2021\n",
      "8  20210030716827786  30716827786       2.012673e+10     2021\n",
      "9  20200030711050821  30711050821       2.012348e+10     2020\n",
      "ID_GANANCIAS           int64\n",
      "GAN_CUIT               int64\n",
      "GAN_CUIT_CONTADOR    float64\n",
      "PERIODO                int64\n",
      "dtype: object\n"
     ]
    }
   ],
   "source": [
    "filename = \"AFIP_GANANCIAS_DDJJ_INCREMENTAL.txt\"\n",
    "data = pandas.read_csv(filename, header=0)\n",
    "\n",
    "print(data.shape)\n",
    "print (data.head(10))\n",
    "print (data.dtypes)"
   ]
  },
  {
   "cell_type": "code",
   "execution_count": 13,
   "metadata": {},
   "outputs": [],
   "source": [
    "params=[]\n",
    "statement = \"\"\"\n",
    "UNWIND $parameters as row\n",
    "WITH row\n",
    "MERGE (a:Afip_Ganancias {ID_GANANCIAS: tostring(row.ID_GANANCIAS), GAN_CUIT: tostring(row.GAN_CUIT), GAN_CUIT_CONTADOR: tostring(row.GAN_CUIT_CONTADOR), PERIODO\n",
    ": tostring(row.PERIODO)})\n",
    "\"\"\"\n",
    "\n",
    "with driver.session() as session:\n",
    "    for index, row in data.iterrows(): \n",
    "        params_dict = {\n",
    "                'ID_GANANCIAS' : int(row ['ID_GANANCIAS']),\n",
    "                'GAN_CUIT' :int(row ['GAN_CUIT']),\n",
    "                'GAN_CUIT_CONTADOR': int(row ['GAN_CUIT_CONTADOR']),\n",
    "                'PERIODO': int(row ['PERIODO'])\n",
    "        }\n",
    "        params.append(params_dict)\n",
    "        if index % 20 == 0 and index > 0: \n",
    "            session.run(statement, parameters = {'parameters':params})\n",
    "            params=[]  \n",
    "        session.run(statement, parameters = {'parameters':params})\n",
    "    session.close()"
   ]
  },
  {
   "cell_type": "code",
   "execution_count": 20,
   "metadata": {},
   "outputs": [],
   "source": [
    "from neo4j import GraphDatabase\n",
    "uri = \"neo4j://localhost:7687\"\n",
    "driver = GraphDatabase.driver(uri, auth=(\"neo4j\", \"Sistemas2021\"))"
   ]
  },
  {
   "cell_type": "code",
   "execution_count": 21,
   "metadata": {},
   "outputs": [
    {
     "name": "stdout",
     "output_type": "stream",
     "text": [
      "(22950, 4)\n",
      "        ID_GANANCIAS     GAN_CUIT  PERIODO     GAN663\n",
      "0  20210030709059668  30709059668     2021          0\n",
      "1  20210030709284068  30709284068     2021          0\n",
      "2  20210030715825526  30715825526     2021    9844425\n",
      "3  20210030716906864  30716906864     2021    8888098\n",
      "4  20210030714230421  30714230421     2021   62317554\n",
      "5  20210030702891929  30702891929     2021          0\n",
      "6  20210030661660658  30661660658     2021  107400015\n",
      "7  20210033602289619  33602289619     2021  950503280\n",
      "8  20210033709267669  33709267669     2021          0\n",
      "9  20210030696639457  30696639457     2021          0\n",
      "ID_GANANCIAS    int64\n",
      "GAN_CUIT        int64\n",
      "PERIODO         int64\n",
      "GAN663          int64\n",
      "dtype: object\n"
     ]
    }
   ],
   "source": [
    "filename = \"AFIP_GANANCIAS_DDJJXCUIT_INCREMENTAL.txt\"\n",
    "data = pandas.read_csv(filename, header=0)\n",
    "\n",
    "print(data.shape)\n",
    "print (data.head(10))  \n",
    "print (data.dtypes)"
   ]
  },
  {
   "cell_type": "code",
   "execution_count": 22,
   "metadata": {},
   "outputs": [],
   "source": [
    "params=[]\n",
    "statement = \"\"\"\n",
    "UNWIND $parameters as row\n",
    "WITH row\n",
    "MATCH (c:Cuit {CUIT: row.GAN_CUIT}), (a:Afip_Ganancias{ID_GANANCIAS: row.ID_GANANCIAS})\n",
    "MERGE (c)- [:AFIP_GANANCIASXCUIT{GAN_AFIP_PERIODO:row.PERIODO,GAN_663:row.GAN663}]-> (a)\n",
    "\"\"\"\n",
    "\n",
    "with driver.session() as session:\n",
    "    for index, row in data.iterrows(): \n",
    "        params_dict = {\n",
    "                'GAN_CUIT' : str(row ['GAN_CUIT']),\n",
    "                'ID_GANANCIAS' : str(row ['ID_GANANCIAS']),\n",
    "                'PERIODO': int(row ['PERIODO']),\n",
    "                'GAN663': int(row ['GAN663'])\n",
    "        }\n",
    "        params.append(params_dict)\n",
    "        if index % 20 == 0 and index > 0: \n",
    "            session.run(statement, parameters = {'parameters':params})\n",
    "            params=[]  \n",
    "        session.run(statement, parameters = {'parameters':params})\n",
    "    session.close() "
   ]
  },
  {
   "cell_type": "code",
   "execution_count": 23,
   "metadata": {},
   "outputs": [],
   "source": [
    "from neo4j import GraphDatabase\n",
    "uri = \"neo4j://localhost:7687\"\n",
    "driver = GraphDatabase.driver(uri, auth=(\"neo4j\", \"Sistemas2021\"))"
   ]
  },
  {
   "cell_type": "code",
   "execution_count": 24,
   "metadata": {},
   "outputs": [
    {
     "name": "stdout",
     "output_type": "stream",
     "text": [
      "(27, 3)\n",
      "       CUIT_SG   ALTA_AFIP FEC_SENTENCIA_QUIEBRA\n",
      "0  20144012454  1994-09-27            2022-02-24\n",
      "1  30711854548  2011-05-24            2022-03-14\n",
      "2  30715064088  2015-11-06            2021-12-13\n",
      "3  30713999004  2013-04-08            2022-02-02\n",
      "4  30711169896  2009-11-03            2022-02-03\n",
      "5  30714601349  2014-09-19            2021-11-30\n",
      "6  30713788003  2013-03-18            2022-04-21\n",
      "7  30619391094  1901-01-01            2021-12-21\n",
      "8  30713114703  2013-01-09            2022-02-24\n",
      "9  30712241272  2012-03-23            2021-11-26\n"
     ]
    }
   ],
   "source": [
    "import pandas\n",
    "filename = \"QUIEBRA_MARCA_ALTA_INCREMENTAL.txt\"\n",
    "data = pandas.read_csv(filename, header=0)\n",
    "\n",
    "print(data.shape)\n",
    "print (data.head(10))"
   ]
  },
  {
   "cell_type": "code",
   "execution_count": 25,
   "metadata": {},
   "outputs": [],
   "source": [
    "params=[]\n",
    "statement = \"\"\"\n",
    "UNWIND $parameters as row\n",
    "WITH row\n",
    "MERGE (q:Quiebras {ID_FAC_QUIEBRA_CUIT: tostring(row.CUIT_SG) , FEC_SENTENCIA_QUIEBRA:Date(row.FEC_SENTENCIA_QUIEBRA)})\n",
    "\"\"\"\n",
    "\n",
    "with driver.session() as session:\n",
    "    for index, row in data.iterrows(): \n",
    "        params_dict = {\n",
    "                'CUIT_SG' : int(row ['CUIT_SG']),\n",
    "                'FEC_SENTENCIA_QUIEBRA' :row ['FEC_SENTENCIA_QUIEBRA']\n",
    "        }\n",
    "        params.append(params_dict)\n",
    "        if index % 20 == 0 and index > 0: \n",
    "            session.run(statement, parameters = {'parameters':params})\n",
    "            params=[]  \n",
    "        session.run(statement, parameters = {'parameters':params})\n",
    "    session.close() "
   ]
  },
  {
   "cell_type": "code",
   "execution_count": 26,
   "metadata": {},
   "outputs": [],
   "source": [
    "from neo4j import GraphDatabase\n",
    "uri = \"neo4j://localhost:7687\"\n",
    "driver = GraphDatabase.driver(uri, auth=(\"neo4j\", \"Sistemas2021\"))"
   ]
  },
  {
   "cell_type": "code",
   "execution_count": 27,
   "metadata": {},
   "outputs": [
    {
     "name": "stdout",
     "output_type": "stream",
     "text": [
      "(91, 2)\n",
      "          CUIT       CUIT_1\n",
      "0  30715508067  30715508067\n",
      "1  20179594553  20179594553\n",
      "2  30708819324  30708819324\n",
      "3  30619084175  30619084175\n",
      "4  27250236293  27250236293\n",
      "5  30619391094  30619391094\n",
      "6  30715599682  30715599682\n",
      "7  30708838698  30708838698\n",
      "8  20143668380  20143668380\n",
      "9  30564345454  30564345454\n"
     ]
    }
   ],
   "source": [
    "import pandas\n",
    "filename = \"QUIEBRAS_MARCAXCUIT_INCREMENTAL.txt\"\n",
    "data = pandas.read_csv(filename, header=0)\n",
    "\n",
    "print(data.shape)\n",
    "print (data.head(10))"
   ]
  },
  {
   "cell_type": "code",
   "execution_count": 28,
   "metadata": {},
   "outputs": [],
   "source": [
    "params=[]\n",
    "statement = \"\"\"\n",
    "UNWIND $parameters as row\n",
    "WITH row\n",
    "MATCH (c:Cuit {CUIT: tostring(row.CUIT)}),(d:Quiebras{ID_FAC_QUIEBRA_CUIT: tostring(row.CUIT_1)})\n",
    "MERGE (c)-[:QUIEBRASXCUIT]->(d)\n",
    "\"\"\"\n",
    "\n",
    "with driver.session() as session:\n",
    "    for index, row in data.iterrows(): \n",
    "        params_dict = {\n",
    "                'CUIT' : int(row ['CUIT']),\n",
    "                'CUIT_1' :int(row ['CUIT_1'])\n",
    "        }\n",
    "        params.append(params_dict)\n",
    "        if index % 20 == 0 and index > 0: \n",
    "            session.run(statement, parameters = {'parameters':params})\n",
    "            params=[]  \n",
    "        session.run(statement, parameters = {'parameters':params})\n",
    "    session.close() "
   ]
  },
  {
   "cell_type": "code",
   "execution_count": 29,
   "metadata": {},
   "outputs": [],
   "source": [
    "from neo4j import GraphDatabase\n",
    "uri = \"neo4j://localhost:7687\"\n",
    "driver = GraphDatabase.driver(uri, auth=(\"neo4j\", \"Sistemas2021\"))"
   ]
  },
  {
   "cell_type": "code",
   "execution_count": 30,
   "metadata": {},
   "outputs": [
    {
     "name": "stdout",
     "output_type": "stream",
     "text": [
      "(4, 3)\n",
      "       CUIT_SG   ALTA_AFIP FEC_PRESENTACION_CP\n",
      "0  30711237824  2009-12-28          2022-03-07\n",
      "1  20251802425  1999-04-21          2022-02-02\n",
      "2  33568813419  1988-04-12          2021-11-17\n",
      "3  30540088213  1901-01-01          2021-11-17\n"
     ]
    }
   ],
   "source": [
    "import pandas\n",
    "filename = \"CONCURSO_MARCA_ALTA_INCREMENTAL.txt\"\n",
    "data = pandas.read_csv(filename, header=0)\n",
    "\n",
    "print(data.shape)\n",
    "print (data.head(10))"
   ]
  },
  {
   "cell_type": "code",
   "execution_count": 31,
   "metadata": {},
   "outputs": [],
   "source": [
    "params=[]\n",
    "statement = \"\"\"\n",
    "UNWIND $parameters as row\n",
    "WITH row\n",
    "MERGE (c:Concursos {ID_FAC_CONCURSO_CUIT: tostring(row.CUIT_SG) , FEC_PRESENTACION:Date(row.FEC_PRESENTACION_CP)})\n",
    "\"\"\"\n",
    "\n",
    "with driver.session() as session:\n",
    "    for index, row in data.iterrows(): \n",
    "        params_dict = {\n",
    "                'CUIT_SG' : int(row ['CUIT_SG']),\n",
    "                'ALTA_AFIP': row ['ALTA_AFIP'],\n",
    "                'FEC_PRESENTACION_CP' :row ['FEC_PRESENTACION_CP']\n",
    "        }\n",
    "        params.append(params_dict)\n",
    "        if index % 20 == 0 and index > 0: \n",
    "            session.run(statement, parameters = {'parameters':params})\n",
    "            params=[]  \n",
    "        session.run(statement, parameters = {'parameters':params})\n",
    "    session.close() "
   ]
  },
  {
   "cell_type": "code",
   "execution_count": 36,
   "metadata": {},
   "outputs": [],
   "source": [
    "from neo4j import GraphDatabase\n",
    "uri = \"neo4j://localhost:7687\"\n",
    "driver = GraphDatabase.driver(uri, auth=(\"neo4j\", \"Sistemas2021\"))"
   ]
  },
  {
   "cell_type": "code",
   "execution_count": 37,
   "metadata": {},
   "outputs": [
    {
     "name": "stdout",
     "output_type": "stream",
     "text": [
      "(791, 2)\n",
      "          CUIT       CUIT_1\n",
      "0  20251802425  20251802425\n",
      "1  20251802425  20251802425\n",
      "2  33568813419  33568813419\n",
      "3  33568813419  33568813419\n",
      "4  30707804382  30707804382\n",
      "5  30707804382  30707804382\n",
      "6  30707804382  30707804382\n",
      "7  30707804382  30707804382\n",
      "8  30707804382  30707804382\n",
      "9  30707804382  30707804382\n"
     ]
    }
   ],
   "source": [
    "import pandas\n",
    "filename = \"CONCURSO_MARCAXCUIT_INCREMENTAL.txt\"\n",
    "data = pandas.read_csv(filename, header=0)\n",
    "\n",
    "print(data.shape)\n",
    "print (data.head(10))"
   ]
  },
  {
   "cell_type": "code",
   "execution_count": 38,
   "metadata": {},
   "outputs": [],
   "source": [
    "params=[]\n",
    "statement = \"\"\"\n",
    "UNWIND $parameters as row\n",
    "WITH row\n",
    "MATCH (c:Cuit {CUIT: tostring(row.CUIT)}),(d:Concursos{ID_FAC_CONCURSO_CUIT: tostring(row.CUIT_1)})\n",
    "MERGE (c)-[:CONCURSOSSXCUIT]->(d)\n",
    "\"\"\"\n",
    "\n",
    "with driver.session() as session:\n",
    "    for index, row in data.iterrows(): \n",
    "        params_dict = {\n",
    "                'CUIT' : int(row ['CUIT']),\n",
    "                'CUIT_1' :int(row ['CUIT_1'])\n",
    "        }\n",
    "        params.append(params_dict)\n",
    "        if index % 20 == 0 and index > 0: \n",
    "            session.run(statement, parameters = {'parameters':params})\n",
    "            params=[]  \n",
    "        session.run(statement, parameters = {'parameters':params})\n",
    "    session.close() "
   ]
  },
  {
   "cell_type": "code",
   "execution_count": 39,
   "metadata": {},
   "outputs": [],
   "source": [
    "from neo4j import GraphDatabase\n",
    "uri = \"neo4j://localhost:7687\"\n",
    "driver = GraphDatabase.driver(uri, auth=(\"neo4j\", \"Sistemas2021\"))"
   ]
  },
  {
   "cell_type": "code",
   "execution_count": 41,
   "metadata": {},
   "outputs": [
    {
     "name": "stdout",
     "output_type": "stream",
     "text": [
      "(3, 7)\n",
      "                               ENTIDAD         CUIT  \\\n",
      "0                           AKWEL S.A.  30716897717   \n",
      "1           COUTIER DEVELOPPEMENT S.A.  30716897709   \n",
      "2  EUROSTAR LIFE SCIENCES HOLDINGS S.A  30717438325   \n",
      "\n",
      "                TIPO_ENTIDAD MATRICULA DEPARTAMENTO LOCALIDAD  \\\n",
      "0  Sociedad Extranjera (123)     G-139      CAPITAL   CORDOBA   \n",
      "1  Sociedad Extranjera (123)     G-140      CAPITAL   CORDOBA   \n",
      "2  Sociedad Extranjera (123)     G-142      CAPITAL   CORDOBA   \n",
      "\n",
      "                                                SEDE  \n",
      "0           Calle Parque Industrial Ferreyra lote 22  \n",
      "1           Calle Parque Industrial Ferreyra lote 22  \n",
      "2  Avenida General Manuel Savio manzana 3 lote 3 ...  \n"
     ]
    }
   ],
   "source": [
    "import pandas\n",
    "filename = \"SOCIEDADES_EXTRANJERAS_INCREMENTAL.txt\"\n",
    "data = pandas.read_csv(filename, header=0)\n",
    "\n",
    "print(data.shape)\n",
    "print (data.head(10))"
   ]
  },
  {
   "cell_type": "code",
   "execution_count": 42,
   "metadata": {},
   "outputs": [],
   "source": [
    "params=[]\n",
    "statement = \"\"\"\n",
    "UNWIND $parameters as row\n",
    "WITH row\n",
    "MERGE (e:Empresas_Extranjeras {ENTIDAD:row.ENTIDAD , CUIT:tostring(row.CUIT), TIPO_ENTIDAD:row.TIPO_ENTIDAD, MATRICULA:row.MATRICULA, DEPARTAMENTO:row.DEPARTAMENTO, LOCALIDAD:row.LOCALIDAD,  SEDE:row.SEDE})\n",
    "\"\"\"\n",
    "\n",
    "with driver.session() as session:\n",
    "    for index, row in data.iterrows(): \n",
    "        params_dict = {\n",
    "                'ENTIDAD' : row ['ENTIDAD'],\n",
    "                'CUIT' : int(row ['CUIT']),\n",
    "                'TIPO_ENTIDAD': row ['TIPO_ENTIDAD'],\n",
    "                'MATRICULA': row ['MATRICULA'],\n",
    "                'DEPARTAMENTO': row ['DEPARTAMENTO'],\n",
    "                'LOCALIDAD': row ['LOCALIDAD'],\n",
    "                'SEDE': row ['SEDE']\n",
    "        }\n",
    "        params.append(params_dict)\n",
    "        if index % 20 == 0 and index > 0: \n",
    "            session.run(statement, parameters = {'parameters':params})\n",
    "            params=[]  \n",
    "        session.run(statement, parameters = {'parameters':params})\n",
    "    session.close()"
   ]
  },
  {
   "cell_type": "code",
   "execution_count": 43,
   "metadata": {},
   "outputs": [],
   "source": [
    "from neo4j import GraphDatabase\n",
    "uri = \"neo4j://localhost:7687\"\n",
    "driver = GraphDatabase.driver(uri, auth=(\"neo4j\", \"Sistemas2021\"))"
   ]
  },
  {
   "cell_type": "code",
   "execution_count": 44,
   "metadata": {},
   "outputs": [
    {
     "name": "stdout",
     "output_type": "stream",
     "text": [
      "(3, 2)\n",
      "          CUIT       CUIT_1\n",
      "0  30716897717  30716897717\n",
      "1  30716897709  30716897709\n",
      "2  30717438325  30717438325\n"
     ]
    }
   ],
   "source": [
    "import pandas\n",
    "filename = \"SOCIEDADES_EXTRANJERASXCUIT_INCREMENTAL.txt\"\n",
    "data = pandas.read_csv(filename, header=0)\n",
    "\n",
    "print(data.shape)\n",
    "print (data.head(10))"
   ]
  },
  {
   "cell_type": "code",
   "execution_count": 45,
   "metadata": {},
   "outputs": [],
   "source": [
    "params=[]\n",
    "statement = \"\"\"\n",
    "UNWIND $parameters as row\n",
    "WITH row\n",
    "MATCH (c:Cuit {CUIT: tostring(row.CUIT)}),(e:Empresas_Extranjeras{CUIT: tostring(row.CUIT_1)})\n",
    "MERGE (c)-[:SOCIEDADESEXTRANJERASXCUIT]->(e)\n",
    "\"\"\"\n",
    "\n",
    "with driver.session() as session:\n",
    "    for index, row in data.iterrows(): \n",
    "        params_dict = {\n",
    "                'CUIT' : int(row ['CUIT']),\n",
    "                'CUIT_1' :int(row ['CUIT_1'])\n",
    "        }\n",
    "        params.append(params_dict)\n",
    "        if index % 20 == 0 and index > 0: \n",
    "            session.run(statement, parameters = {'parameters':params})\n",
    "            params=[]  \n",
    "        session.run(statement, parameters = {'parameters':params})\n",
    "    session.close() "
   ]
  },
  {
   "cell_type": "code",
   "execution_count": 53,
   "metadata": {},
   "outputs": [],
   "source": [
    "from neo4j import GraphDatabase\n",
    "uri = \"neo4j://localhost:7687\"\n",
    "driver = GraphDatabase.driver(uri, auth=(\"neo4j\", \"Sistemas2021\"))"
   ]
  },
  {
   "cell_type": "code",
   "execution_count": 54,
   "metadata": {},
   "outputs": [
    {
     "name": "stdout",
     "output_type": "stream",
     "text": [
      "(30332, 1)\n",
      "                                           DOMICILIO\n",
      "0                 -  - AV.SAN MARTIN  -  -  -  -  - \n",
      "1              -  - LEMOS FINCA YAÑEZ -  -  -  -  - \n",
      "2  SAN SALVADOR DE JUJUY - JUJUY - ECHEVERRIA -  ...\n",
      "3                -  - CHILE Y MARIANO -  -  -  -  - \n",
      "4                      -  - GUALEGUAY -  -  -  -  - \n",
      "5                    -  - JORGE MILES -  -  -  -  - \n",
      "6        AMEGHINO - BUENOS AIRES - 34 -  -  -  -  - \n",
      "7  VILLA DOMINICO  - BUENOS AIRES - DE LA SERNA -...\n",
      "8  BERNAL - BUENOS AIRES - MISIONES ENTRE 177 Y 1...\n",
      "9      PILAR - BUENOS AIRES - TUCUMAN -  -  -  -  - \n"
     ]
    }
   ],
   "source": [
    "import pandas\n",
    "filename = \"TOTALDOM_INCREMENTAL.txt\"\n",
    "data = pandas.read_csv(filename, header=0,encoding='latin-1')\n",
    "\n",
    "print(data.shape)\n",
    "print (data.head(10))"
   ]
  },
  {
   "cell_type": "code",
   "execution_count": 55,
   "metadata": {},
   "outputs": [],
   "source": [
    "params=[]\n",
    "statement = \"\"\"\n",
    "UNWIND $parameters as row\n",
    "WITH row\n",
    "MERGE (d:Domicilio {DOMICILIO:row.DOMICILIO})\n",
    "\"\"\"\n",
    "\n",
    "with driver.session() as session:\n",
    "    for index, row in data.iterrows(): \n",
    "        params_dict = {\n",
    "                'DOMICILIO' : row ['DOMICILIO']\n",
    "        }\n",
    "        params.append(params_dict)\n",
    "        if index % 20 == 0 and index > 0: \n",
    "            session.run(statement, parameters = {'parameters':params})\n",
    "            params=[]  \n",
    "        session.run(statement, parameters = {'parameters':params})\n",
    "    session.close() "
   ]
  },
  {
   "cell_type": "code",
   "execution_count": 56,
   "metadata": {},
   "outputs": [],
   "source": [
    "from neo4j import GraphDatabase\n",
    "uri = \"neo4j://localhost:7687\"\n",
    "driver = GraphDatabase.driver(uri, auth=(\"neo4j\", \"Sistemas2021\"))"
   ]
  },
  {
   "cell_type": "code",
   "execution_count": 57,
   "metadata": {},
   "outputs": [
    {
     "name": "stdout",
     "output_type": "stream",
     "text": [
      "(37918, 2)\n",
      "           CUIT                                          DOMICILIO\n",
      "0  110103297109    VILLA NUEVA - CORDOBA - COMERCIO -  -  -  -  - \n",
      "1  110105674104  SAN MIGUEL DE TUCUMAN - TUCUMAN - FLORIDA -  -...\n",
      "2  120205311080             -  - DAMIAN PEDRO GARAT -  -  -  -  - \n",
      "3  120205500214  ITUZAINGO - BUENOS AIRES - RONDEAU -  -  -  -  - \n",
      "4  120206008712   QUITILIPI - CHACO - LEGUA 3 -COL. -  -  -  -  - \n",
      "5  120206008712         QUITILIPI  - CHACO - AGUADO -  -  -  -  - \n",
      "6  120219874001                         -  - GUEMES -  -  -  -  - \n",
      "7  130102418817  BERAZATEGUI - BUENOS AIRES - 530 Y 653 -  -  -...\n",
      "8  130320607435  LOMAS DE ZAMORA  - BUENOS AIRES  - MAR DEL PLA...\n",
      "9  130411309119                -  - SAN JUAN BOSCO  -  -  -  -  - \n"
     ]
    }
   ],
   "source": [
    "import pandas\n",
    "filename = \"TOTALDOMXCUIT_INCREMENTAL.txt\"\n",
    "data = pandas.read_csv(filename, header=0,encoding='latin-1')\n",
    "\n",
    "print(data.shape)\n",
    "print (data.head(10))"
   ]
  },
  {
   "cell_type": "code",
   "execution_count": 58,
   "metadata": {},
   "outputs": [
    {
     "name": "stderr",
     "output_type": "stream",
     "text": [
      "Failed to write data to connection ResolvedIPv6Address(('::1', 7687, 0, 0)) (IPv6Address(('::1', 7687, 0, 0)))\n",
      "Failed to write data to connection ResolvedIPv6Address(('::1', 7687, 0, 0)) (IPv6Address(('::1', 7687, 0, 0)))\n"
     ]
    }
   ],
   "source": [
    "params=[]\n",
    "statement = \"\"\"\n",
    "UNWIND $parameters as row\n",
    "WITH row\n",
    "MATCH (c:Cuit {CUIT: tostring(row.CUIT)}),(d:Domicilio {DOMICILIO:row.DOMICILIO})\n",
    "MERGE (c)-[:DOMICILIO]->(d)\n",
    "\"\"\"\n",
    "\n",
    "with driver.session() as session:\n",
    "    for index, row in data.iterrows(): \n",
    "        params_dict = {\n",
    "            'CUIT' : int(row ['CUIT']),    \n",
    "            'DOMICILIO' : row ['DOMICILIO']\n",
    "        }\n",
    "        params.append(params_dict)\n",
    "        if index % 20 == 0 and index > 0: \n",
    "            session.run(statement, parameters = {'parameters':params})\n",
    "            params=[]  \n",
    "        session.run(statement, parameters = {'parameters':params})\n",
    "    session.close() "
   ]
  },
  {
   "cell_type": "code",
   "execution_count": 59,
   "metadata": {},
   "outputs": [],
   "source": [
    "from neo4j import GraphDatabase\n",
    "uri = \"neo4j://localhost:7687\"\n",
    "driver = GraphDatabase.driver(uri, auth=(\"neo4j\", \"Sistemas2021\"))"
   ]
  },
  {
   "cell_type": "code",
   "execution_count": 61,
   "metadata": {},
   "outputs": [
    {
     "name": "stdout",
     "output_type": "stream",
     "text": [
      "(4277180, 4)\n",
      "                       INDICE  CANTIDAD_OPERACIONES  TOTAL_OPERACIONES  \\\n",
      "0  20213050555222520278803741                     7             257923   \n",
      "1  20213050555222527290862545                    37              33145   \n",
      "2  20213051222044027134725015                     1              -4987   \n",
      "3  20213051222044020137272823                     1              41757   \n",
      "4  20213051222044030639453738                    14             130035   \n",
      "5  20213051222044030697956200                     7             547479   \n",
      "6  20213051222044033710831659                     3            1281451   \n",
      "7  20213051222044020287059672                     1               1200   \n",
      "8  20212333916853930668721628                     5             171216   \n",
      "9  20213071245451920108589346                     9             246645   \n",
      "\n",
      "   PERIODO  \n",
      "0     2021  \n",
      "1     2021  \n",
      "2     2021  \n",
      "3     2021  \n",
      "4     2021  \n",
      "5     2021  \n",
      "6     2021  \n",
      "7     2021  \n",
      "8     2021  \n",
      "9     2021  \n"
     ]
    }
   ],
   "source": [
    "import pandas\n",
    "filename = \"COMPRAS_NODOS_INCREMENTAL.txt\"\n",
    "data = pandas.read_csv(filename, header=0,encoding='latin-1')\n",
    "\n",
    "print(data.shape)\n",
    "print (data.head(10))"
   ]
  },
  {
   "cell_type": "code",
   "execution_count": 62,
   "metadata": {},
   "outputs": [],
   "source": [
    "params=[]\n",
    "statement = \"\"\"\n",
    "UNWIND $parameters as row\n",
    "WITH row\n",
    "MERGE (c:Compras {COMPRAS: tostring(row.INDICE)})\n",
    "ON CREATE SET c.COMPRAS = tostring(row.INDICE), c.CANTIDAD_OPERACIONES = tostring(row.CANTIDAD_OPERACIONES), c.TOTAL_OPERACIONES = tostring(row.TOTAL_OPERACIONES), c.PERIODO= tostring(row.PERIODO)\n",
    "ON MATCH SET c.CANTIDAD_OPERACIONES = toInteger(c.CANTIDAD_OPERACIONES) + toInteger(row.CANTIDAD_OPERACIONES), c.TOTAL_OPERACIONES = toInteger(c.TOTAL_OPERACIONES)+ toInteger(row.TOTAL_OPERACIONES)\n",
    "\"\"\"\n",
    "\n",
    "with driver.session() as session:\n",
    "    for index, row in data.iterrows(): \n",
    "        params_dict = {\n",
    "                'INDICE' : str(row ['INDICE']),\n",
    "                'CANTIDAD_OPERACIONES' : int(row ['CANTIDAD_OPERACIONES']),\n",
    "                'TOTAL_OPERACIONES': int(row ['TOTAL_OPERACIONES']),\n",
    "                'PERIODO': int(row ['PERIODO'])\n",
    "        }\n",
    "        params.append(params_dict)\n",
    "        if index % 20 == 0 and index > 0: \n",
    "            session.run(statement, parameters = {'parameters':params})\n",
    "            params=[]  \n",
    "        session.run(statement, parameters = {'parameters':params})\n",
    "    session.close()"
   ]
  },
  {
   "cell_type": "code",
   "execution_count": 63,
   "metadata": {},
   "outputs": [],
   "source": [
    "from neo4j import GraphDatabase\n",
    "uri = \"neo4j://localhost:7687\"\n",
    "driver = GraphDatabase.driver(uri, auth=(\"neo4j\", \"Sistemas2021\"))"
   ]
  },
  {
   "cell_type": "code",
   "execution_count": 64,
   "metadata": {},
   "outputs": [
    {
     "name": "stdout",
     "output_type": "stream",
     "text": [
      "(4277179, 3)\n",
      "                       INDICE  CUIT_INFORMANTE  PERIODO\n",
      "0  20212012811605330500728317      20128116053     2021\n",
      "1  20212324857442920935668272      23248574429     2021\n",
      "2  20212008000621830500542620      20080006218     2021\n",
      "3  20212033767431430714777951      20337674314     2021\n",
      "4  20213070931625320149096869      30709316253     2021\n",
      "5  20212010971964230692975533      20109719642     2021\n",
      "6  20213071467472930709447951      30714674729     2021\n",
      "7  20212032406389830708788402      20324063898     2021\n",
      "8  20212030967439230551779447      20309674392     2021\n",
      "9  20213070933627020290307075      30709336270     2021\n"
     ]
    }
   ],
   "source": [
    "import pandas\n",
    "filename = \"COMPRAS_NODOS_REL_CUIT_COMPRA_INCREMENTAL.txt\"\n",
    "data = pandas.read_csv(filename, header=0,encoding='latin-1')\n",
    "\n",
    "print(data.shape)\n",
    "print (data.head(10))"
   ]
  },
  {
   "cell_type": "code",
   "execution_count": 65,
   "metadata": {},
   "outputs": [],
   "source": [
    "params=[]\n",
    "statement = \"\"\"\n",
    "UNWIND $parameters as row\n",
    "WITH row\n",
    "MATCH (c:Cuit {CUIT: tostring(row.CUIT_INFORMANTE)}), (a:Compras{COMPRAS: row.INDICE})\n",
    "MERGE (c)- [:COMPRA{PERIODO:tostring(row.PERIODO)}]-> (a)\n",
    "\"\"\"\n",
    "\n",
    "with driver.session() as session:\n",
    "    for index, row in data.iterrows(): \n",
    "        params_dict = {\n",
    "            'INDICE' : str(row ['INDICE']),\n",
    "            'CUIT_INFORMANTE' : int(row ['CUIT_INFORMANTE']),   \n",
    "             'PERIODO': int(row ['PERIODO'])\n",
    "            \n",
    "        }\n",
    "        params.append(params_dict)\n",
    "        if index % 20 == 0 and index > 0: \n",
    "            session.run(statement, parameters = {'parameters':params})\n",
    "            params=[]  \n",
    "        session.run(statement, parameters = {'parameters':params})\n",
    "    session.close() "
   ]
  },
  {
   "cell_type": "code",
   "execution_count": 66,
   "metadata": {},
   "outputs": [],
   "source": [
    "from neo4j import GraphDatabase\n",
    "uri = \"neo4j://localhost:7687\"\n",
    "driver = GraphDatabase.driver(uri, auth=(\"neo4j\", \"Sistemas2021\"))"
   ]
  },
  {
   "cell_type": "code",
   "execution_count": 72,
   "metadata": {},
   "outputs": [
    {
     "name": "stdout",
     "output_type": "stream",
     "text": [
      "(4277179, 3)\n",
      "                       INDICE  IDENTIFICACION_VENDEDOR  PERIODO\n",
      "0  20212008000621830692317021             3.069232e+10     2021\n",
      "1  20213071523208830715017462             3.071502e+10     2021\n",
      "2  20213071523208830682662200             3.068266e+10     2021\n",
      "3  20213070931625320179067944             2.017907e+10     2021\n",
      "4  20213371521828930601920243             3.060192e+10     2021\n",
      "5  20213050287435330715679287             3.071568e+10     2021\n",
      "6  20213370896720930678774495             3.067877e+10     2021\n",
      "7  20213370896720930581275710             3.058128e+10     2021\n",
      "8  20213071653802430715861646             3.071586e+10     2021\n",
      "9  20213071523018230708178205             3.070818e+10     2021\n"
     ]
    }
   ],
   "source": [
    "import pandas\n",
    "filename = \"COMPRAS_NODOS_REL_CUIT_VENDE_INCREMENTAL.txt\"\n",
    "data = pandas.read_csv(filename, header=0,encoding='latin-1')\n",
    "\n",
    "print(data.shape)\n",
    "print (data.head(10))"
   ]
  },
  {
   "cell_type": "code",
   "execution_count": 73,
   "metadata": {},
   "outputs": [],
   "source": [
    "# x contained NaN\n",
    "data = data[~data['IDENTIFICACION_VENDEDOR'].isnull()]\n",
    "\n",
    "# final conversion now worked\n",
    "data[['IDENTIFICACION_VENDEDOR']] = data[['IDENTIFICACION_VENDEDOR']].astype('Int64')"
   ]
  },
  {
   "cell_type": "code",
   "execution_count": 75,
   "metadata": {},
   "outputs": [
    {
     "name": "stdout",
     "output_type": "stream",
     "text": [
      "(4277175, 3)\n",
      "                        INDICE  IDENTIFICACION_VENDEDOR  PERIODO\n",
      "0   20212008000621830692317021              30692317021     2021\n",
      "1   20213071523208830715017462              30715017462     2021\n",
      "2   20213071523208830682662200              30682662200     2021\n",
      "3   20213070931625320179067944              20179067944     2021\n",
      "4   20213371521828930601920243              30601920243     2021\n",
      "5   20213050287435330715679287              30715679287     2021\n",
      "6   20213370896720930678774495              30678774495     2021\n",
      "7   20213370896720930581275710              30581275710     2021\n",
      "8   20213071653802430715861646              30715861646     2021\n",
      "9   20213071523018230708178205              30708178205     2021\n",
      "10  20213071522201530716824752              30716824752     2021\n",
      "11  20213070933188030500017704              30500017704     2021\n",
      "12  20212030967439230716492059              30716492059     2021\n",
      "13  20212030967439230551779447              30551779447     2021\n",
      "14  20212011857747820316774335              20316774335     2021\n",
      "15  20212016238639630716833484              30716833484     2021\n",
      "16  20213071472866723238019524              23238019524     2021\n",
      "17  20213050519268730715550438              30715550438     2021\n",
      "18  20213070897814730710901674              30710901674     2021\n",
      "19  20212033598652130688318595              30688318595     2021\n"
     ]
    }
   ],
   "source": [
    "print(data.shape)\n",
    "print (data.head(20))"
   ]
  },
  {
   "cell_type": "code",
   "execution_count": 76,
   "metadata": {},
   "outputs": [],
   "source": [
    "params=[]\n",
    "statement = \"\"\"\n",
    "UNWIND $parameters as row\n",
    "WITH row\n",
    "MATCH (c:Cuit {CUIT: tostring(row.IDENTIFICACION_VENDEDOR)}), (a:Compras{COMPRAS: row.INDICE})\n",
    "MERGE (c)- [:VENDE{PERIODO:tostring(row.PERIODO)}]-> (a)\n",
    "\"\"\"\n",
    "\n",
    "with driver.session() as session:\n",
    "    for index, row in data.iterrows(): \n",
    "        params_dict = {\n",
    "            'INDICE' : str(row ['INDICE']),\n",
    "            'IDENTIFICACION_VENDEDOR' : int(row ['IDENTIFICACION_VENDEDOR']),   \n",
    "            'PERIODO': int(row ['PERIODO'])\n",
    "            \n",
    "        }\n",
    "        params.append(params_dict)\n",
    "        if index % 20 == 0 and index > 0: \n",
    "            session.run(statement, parameters = {'parameters':params})\n",
    "            params=[]  \n",
    "        session.run(statement, parameters = {'parameters':params})\n",
    "    session.close()"
   ]
  },
  {
   "cell_type": "code",
   "execution_count": 77,
   "metadata": {},
   "outputs": [],
   "source": [
    "from neo4j import GraphDatabase\n",
    "uri = \"neo4j://localhost:7687\"\n",
    "driver = GraphDatabase.driver(uri, auth=(\"neo4j\", \"Sistemas2021\"))"
   ]
  },
  {
   "cell_type": "code",
   "execution_count": 80,
   "metadata": {},
   "outputs": [
    {
     "name": "stdout",
     "output_type": "stream",
     "text": [
      "(866585, 2)\n",
      "                           MAIL DOMINIO_MAIL\n",
      "0    migueltello777@hotmail.com  hotmail.com\n",
      "1    andrestissera1@hotmail.com  hotmail.com\n",
      "2          antoraz2@hotmail.com  hotmail.com\n",
      "3      ledalucanera@hotmail.com  hotmail.com\n",
      "4  gustavofabian_93@hotmail.com  hotmail.com\n",
      "5   rolandomachado153@gmail.com    gmail.com\n",
      "6          airayanina@gmail.com    gmail.com\n",
      "7             nunuotg@yahoo.com    yahoo.com\n",
      "8        saalrodolfo3@gmail.com    gmail.com\n",
      "9          rbrondo.53@gmail.com    gmail.com\n"
     ]
    }
   ],
   "source": [
    "import pandas\n",
    "filename = \"TOTALMAIL_INCREMENTAL.txt\"\n",
    "data = pandas.read_csv(filename, header=0,encoding='latin-1')\n",
    "\n",
    "print(data.shape)\n",
    "print (data.head(10))"
   ]
  },
  {
   "cell_type": "code",
   "execution_count": 81,
   "metadata": {},
   "outputs": [],
   "source": [
    "params=[]\n",
    "statement = \"\"\"\n",
    "UNWIND $parameters as row\n",
    "WITH row\n",
    "MERGE (m:Mail {MAIL:row.MAIL, DOMINIO:row.DOMINIO_MAIL})\n",
    "\"\"\"\n",
    "\n",
    "with driver.session() as session:\n",
    "    for index, row in data.iterrows(): \n",
    "        params_dict = {\n",
    "            'MAIL' : row ['MAIL'],\n",
    "            'DOMINIO_MAIL' : row ['DOMINIO_MAIL']\n",
    "            \n",
    "        }\n",
    "        params.append(params_dict)\n",
    "        if index % 20 == 0 and index > 0: \n",
    "            session.run(statement, parameters = {'parameters':params})\n",
    "            params=[]  \n",
    "        session.run(statement, parameters = {'parameters':params})\n",
    "    session.close() "
   ]
  },
  {
   "cell_type": "code",
   "execution_count": 82,
   "metadata": {},
   "outputs": [],
   "source": [
    "from neo4j import GraphDatabase\n",
    "uri = \"neo4j://localhost:7687\"\n",
    "driver = GraphDatabase.driver(uri, auth=(\"neo4j\", \"Sistemas2021\"))"
   ]
  },
  {
   "cell_type": "code",
   "execution_count": 83,
   "metadata": {},
   "outputs": [
    {
     "name": "stdout",
     "output_type": "stream",
     "text": [
      "(866585, 3)\n",
      "           CUIT ORIGEN                           MAIL\n",
      "0  110100148838   CIDI           jodeche@yahoo.com.ar\n",
      "1  110100279622   CIDI        luiswiloo.cba@gmail.com\n",
      "2  110102771605   CIDI  franciscoolivera268@gmail.com\n",
      "3  110102818539   ACSP      robertollanes02@gmail.com\n",
      "4  110102818539   SPAS      robertollanes02@gmail.com\n",
      "5  110102822293   CIDI     tomascalderon746@gmail.com\n",
      "6  110103186145   CIDI     micagordillo28@hotmail.com\n",
      "7  110103297109   CIDI      dariomazzini281@gmail.com\n",
      "8  110104093841   CIDI      mariamurua_17@hotmail.com\n",
      "9  110104132898   CIDI          luispesci20@gmail.com\n"
     ]
    }
   ],
   "source": [
    "import pandas\n",
    "filename = \"TOTALMAILXCUIT_INCREMENTAL.txt\"\n",
    "data = pandas.read_csv(filename, header=0,encoding='latin-1')\n",
    "\n",
    "print(data.shape)\n",
    "print (data.head(10))"
   ]
  },
  {
   "cell_type": "code",
   "execution_count": 84,
   "metadata": {},
   "outputs": [],
   "source": [
    "params=[]\n",
    "statement = \"\"\"\n",
    "UNWIND $parameters as row\n",
    "WITH row\n",
    "MATCH (c:Cuit {CUIT: tostring(row.CUIT)}),(m:Mail {MAIL:row.MAIL})\n",
    "MERGE (c)-[:MAIL{ORIGEN:row.ORIGEN}]->(m)\n",
    "\"\"\"\n",
    "\n",
    "with driver.session() as session:\n",
    "    for index, row in data.iterrows(): \n",
    "        params_dict = {\n",
    "            'CUIT' : int(row['CUIT']),\n",
    "            'MAIL' : row ['MAIL'],\n",
    "            'ORIGEN' : row ['ORIGEN']\n",
    "            \n",
    "                         }\n",
    "        params.append(params_dict)\n",
    "        if index % 20 == 0 and index > 0: \n",
    "            session.run(statement, parameters = {'parameters':params})\n",
    "            params=[]  \n",
    "        session.run(statement, parameters = {'parameters':params})\n",
    "    session.close() "
   ]
  },
  {
   "cell_type": "code",
   "execution_count": 85,
   "metadata": {},
   "outputs": [],
   "source": [
    "from neo4j import GraphDatabase\n",
    "uri = \"neo4j://localhost:7687\"\n",
    "driver = GraphDatabase.driver(uri, auth=(\"neo4j\", \"Sistemas2021\"))"
   ]
  },
  {
   "cell_type": "code",
   "execution_count": 86,
   "metadata": {},
   "outputs": [
    {
     "name": "stdout",
     "output_type": "stream",
     "text": [
      "(484157, 3)\n",
      "    TELEFONOS ORIGEN PTT_ID\n",
      "0  3513852937   CIDI      C\n",
      "1  3517668703   CIDI      C\n",
      "2  3515605590   CIDI      C\n",
      "3  3515631784   CIDI      C\n",
      "4  3585169703   CIDI      C\n",
      "5  3515998333   CIDI      C\n",
      "6  3541533859   CIDI      C\n",
      "7  3516844802   CIDI      C\n",
      "8  3516185354   CIDI      C\n",
      "9  1144198341   CIDI      C\n"
     ]
    }
   ],
   "source": [
    "import pandas\n",
    "filename = \"TOTALTELEFONOS_INCREMENTAL.txt\"\n",
    "data = pandas.read_csv(filename, header=0,encoding='latin-1')\n",
    "\n",
    "print(data.shape)\n",
    "print (data.head(10))"
   ]
  },
  {
   "cell_type": "code",
   "execution_count": 87,
   "metadata": {},
   "outputs": [],
   "source": [
    "params=[]\n",
    "statement = \"\"\"\n",
    "UNWIND $parameters as row\n",
    "WITH row\n",
    "MERGE (t:Telefonos {TELEFONOS:tostring(row.TELEFONOS), ORIGEN:row.ORIGEN,FIJO_CEL:row.PTT_ID})\n",
    "\"\"\"\n",
    "\n",
    "with driver.session() as session:\n",
    "    for index, row in data.iterrows(): \n",
    "        params_dict = {\n",
    "            'TELEFONOS' : int(row ['TELEFONOS']),\n",
    "            'ORIGEN' : row ['ORIGEN'],\n",
    "            'PTT_ID': row ['PTT_ID']\n",
    "            \n",
    "        }\n",
    "        params.append(params_dict)\n",
    "        if index % 20 == 0 and index > 0: \n",
    "            session.run(statement, parameters = {'parameters':params})\n",
    "            params=[]  \n",
    "        session.run(statement, parameters = {'parameters':params})\n",
    "    session.close() "
   ]
  },
  {
   "cell_type": "code",
   "execution_count": 88,
   "metadata": {},
   "outputs": [],
   "source": [
    "from neo4j import GraphDatabase\n",
    "uri = \"neo4j://localhost:7687\"\n",
    "driver = GraphDatabase.driver(uri, auth=(\"neo4j\", \"Sistemas2021\"))"
   ]
  },
  {
   "cell_type": "code",
   "execution_count": 89,
   "metadata": {},
   "outputs": [
    {
     "name": "stdout",
     "output_type": "stream",
     "text": [
      "(517047, 2)\n",
      "    TELEFONOS          CUIT\n",
      "0  3533497108  110104132898\n",
      "1  3644107859  120206008712\n",
      "2  3525646778  130320609993\n",
      "3  3435000634  130324185055\n",
      "4  3416951923  130400515523\n",
      "5  3794904544  130400550043\n",
      "6  3884888387  130402708469\n",
      "7  1157617532  130403879089\n",
      "8  3521435176  130405570131\n",
      "9  2246441682  130406096875\n"
     ]
    }
   ],
   "source": [
    "import pandas\n",
    "filename = \"TOTALTELEFONOSXCUIT_INCREMENTAL.txt\"\n",
    "data = pandas.read_csv(filename, header=0,encoding='latin-1')\n",
    "\n",
    "print(data.shape)\n",
    "print (data.head(10))"
   ]
  },
  {
   "cell_type": "code",
   "execution_count": 90,
   "metadata": {},
   "outputs": [],
   "source": [
    "params=[]\n",
    "statement = \"\"\"\n",
    "UNWIND $parameters as row\n",
    "WITH row\n",
    "MATCH (c:Cuit {CUIT: tostring(row.CUIT)}),(t:Telefonos {TELEFONOS:tostring(row.TELEFONOS)})\n",
    "MERGE (c)-[:TELEFONO]->(T)\n",
    "\"\"\"\n",
    "\n",
    "with driver.session() as session:\n",
    "    for index, row in data.iterrows(): \n",
    "        params_dict = {\n",
    "            'CUIT' : int(row['CUIT']),\n",
    "            'TELEFONOS' : int(row ['TELEFONOS'])\n",
    "            \n",
    "                         }\n",
    "        params.append(params_dict)\n",
    "        if index % 20 == 0 and index > 0: \n",
    "            session.run(statement, parameters = {'parameters':params})\n",
    "            params=[]  \n",
    "        session.run(statement, parameters = {'parameters':params})\n",
    "    session.close() "
   ]
  },
  {
   "cell_type": "code",
   "execution_count": 91,
   "metadata": {},
   "outputs": [],
   "source": [
    "from neo4j import GraphDatabase\n",
    "uri = \"neo4j://localhost:7687\"\n",
    "driver = GraphDatabase.driver(uri, auth=(\"neo4j\", \"Sistemas2021\"))"
   ]
  },
  {
   "cell_type": "code",
   "execution_count": 92,
   "metadata": {},
   "outputs": [
    {
     "name": "stdout",
     "output_type": "stream",
     "text": [
      "(132774, 6)\n",
      "              INMUEBLE                                 DOMICILIO_CATASTRO  \\\n",
      "0  1101010405020026000  SIMON BOLIVAR 390   CENTRO X5000JZH CORDOBA - ...   \n",
      "1  1101011213053006000  ANGEL TERENCIO LO CELSO 6397   GRANJA DE FUNES...   \n",
      "2  1101011326005006000  ANGEL TERENCIO LO CELSO 6761   GRANJA DE FUNES...   \n",
      "3  1101011212022015000  ANGEL TERENCIO LO CELSO 6024   ARGUELLO X5000C...   \n",
      "4  1101011208005029000  SANTIAGO RAMON Y CAJAL 6786   ARGUELLO  CORDOB...   \n",
      "5  1101011319013003000  CHAMICO 9049   VILLA RIVERA INDARTE  CORDOBA -...   \n",
      "6  1101011326005001000  RENE BRACAMONTE DE LOS ALEMANES 5849   GRANJA ...   \n",
      "7  1101011214008003000  BLAS PASCAL 5379   VILLA BELGRANO X5021IHG COR...   \n",
      "8  1101010314039004000  RAMIREZ DE ARELLANO 655   ALTA CORDOBA  CORDOB...   \n",
      "9  1101011212015006000  FRANCISCO GUILLERMO ASTON 6245   ARGUELLO X502...   \n",
      "\n",
      "   BASE_IMPONIBLE TIPO_PROPIEDAD  SUP_TERRENO  SUP_CUBIERTA  \n",
      "0        14482470             UR          328            60  \n",
      "1         9748995             UR          630           366  \n",
      "2        10765785             UR          630           534  \n",
      "3        10212119             UR          840           316  \n",
      "4        18591181             UR         2035           698  \n",
      "5        30300439             UR        18705           943  \n",
      "6        10827872             UR          903           544  \n",
      "7         9143640             UR          973           319  \n",
      "8        31427232             UR          152          1224  \n",
      "9         6903175             UR          525           261  \n"
     ]
    }
   ],
   "source": [
    "import pandas\n",
    "filename = \"INMUEBLES_TOTAL_INCREMENTAL.txt\"\n",
    "data = pandas.read_csv(filename, header=0,encoding='latin-1')\n",
    "\n",
    "print(data.shape)\n",
    "print (data.head(10))"
   ]
  },
  {
   "cell_type": "code",
   "execution_count": 93,
   "metadata": {},
   "outputs": [],
   "source": [
    "params=[]\n",
    "statement = \"\"\"\n",
    "UNWIND $parameters as row\n",
    "WITH row\n",
    "MERGE (i:Inmueble {INMUEBLE:tostring(row.INMUEBLE), DOMICILIO_CATASTRO:row.DOMICILIO_CATASTRO,BASE_IMPONIBLE:  toInteger(row.BASE_IMPONIBLE), TIPO_PROPIEDAD:row.TIPO_PROPIEDAD, SUP_TERRENO:tostring(row.SUP_TERRENO), SUP_CUBIERTA:tostring(row.SUP_CUBIERTA)})\n",
    "\"\"\"\n",
    "\n",
    "with driver.session() as session:\n",
    "    for index, row in data.iterrows(): \n",
    "        params_dict = {\n",
    "            'INMUEBLE' : row ['INMUEBLE'],\n",
    "            'DOMICILIO_CATASTRO' : row ['DOMICILIO_CATASTRO'],\n",
    "            'BASE_IMPONIBLE': int(row ['BASE_IMPONIBLE']),\n",
    "            'TIPO_PROPIEDAD' : row ['TIPO_PROPIEDAD'],\n",
    "            'SUP_TERRENO' : int(row ['SUP_TERRENO']),\n",
    "            'SUP_CUBIERTA' : int(row ['SUP_CUBIERTA'])\n",
    "            \n",
    "        }\n",
    "        params.append(params_dict)\n",
    "        if index % 20 == 0 and index > 0: \n",
    "            session.run(statement, parameters = {'parameters':params})\n",
    "            params=[]  \n",
    "        session.run(statement, parameters = {'parameters':params})\n",
    "    session.close() "
   ]
  },
  {
   "cell_type": "code",
   "execution_count": 94,
   "metadata": {},
   "outputs": [],
   "source": [
    "from neo4j import GraphDatabase\n",
    "uri = \"neo4j://localhost:7687\"\n",
    "driver = GraphDatabase.driver(uri, auth=(\"neo4j\", \"Sistemas2021\"))"
   ]
  },
  {
   "cell_type": "code",
   "execution_count": 95,
   "metadata": {},
   "outputs": [
    {
     "name": "stdout",
     "output_type": "stream",
     "text": [
      "(454949, 16)\n",
      "              INMUEBLE  REGIMEN_PROPIEDAD_PH  PADRON_MUNICIPAL ZONA_PARCELA  \\\n",
      "0  1101011215004002000                     2      110107791647           UR   \n",
      "1  1101011213057023000                     2      110103036771           UR   \n",
      "2  1101011213057023000                     2      110103036771           UR   \n",
      "3  2405520501144015000                     2      240509981605           UR   \n",
      "4  2405520701002002000                     2      240507117113           UR   \n",
      "5  2405520101070005000                     2      240501129721           UR   \n",
      "6  2405520101070005000                     2      240501129721           UR   \n",
      "7  2405520101059031000                     2      240515691163           UR   \n",
      "8  2405520101059031000                     2      240515691163           UR   \n",
      "9  2405520301014005000                     2      240505871392           UR   \n",
      "\n",
      "   PADRON_DEPARTAMENTO MARCA_BIEN_FAMILIA  SUP_TERRENO  SUP_CUBIERTA  \\\n",
      "0                   11                  N          551           611   \n",
      "1                   11                  N          929           281   \n",
      "2                   11                  N          929           281   \n",
      "3                   24                  N          638           275   \n",
      "4                   24                  N         2000           793   \n",
      "5                   24                  N          217            85   \n",
      "6                   24                  N          217            85   \n",
      "7                   24                  N          475           380   \n",
      "8                   24                  N          475           380   \n",
      "9                   24                  N          402           465   \n",
      "\n",
      "                                           DOMICILIO CUIT RESPONSABLE  \\\n",
      "0  AV RECTA MARTINOLI 5899   VILLA BELGRANO  CORD...    8           S   \n",
      "1  A. M. DE LABERGE 6230 (1448) - CORDOBA - CAPIT...   35           S   \n",
      "2  A. M. DE LABERGE 6230 (1448) - CORDOBA - CAPIT...   35           S   \n",
      "3    V DALCAR (1448) - RIO CUARTO - RIO CUARTO        111           S   \n",
      "4  AV. GODOY CRUZ 485   INEXISTENCIA DE BARRIOS 5...  193           S   \n",
      "5   BS AS 745 (1448) - RIO CUARTO - RIO CUARTO        260           S   \n",
      "6   BS AS 745 (1448) - RIO CUARTO - RIO CUARTO        260           S   \n",
      "7  9 DE JULIO 751 (1448) - RIO CUARTO - RIO CUART...  304           S   \n",
      "8  9 DE JULIO 751 (1448) - RIO CUARTO - RIO CUART...  304           S   \n",
      "9  SAN MARTIN (1448) - RIO CUARTO - RIO CUARTO        323           S   \n",
      "\n",
      "   PORCENTAJE FECHA_INICIO   FECHA_FIN TIPO_PROPIEDAD  BASE_IMPONIBLE  \n",
      "0         100   1994-02-10  2000-07-29             UR      16214165.0  \n",
      "1         100   1994-09-14  1994-09-14             UR       9487802.0  \n",
      "2         100   1994-06-27  2000-07-29             UR       9389105.0  \n",
      "3         100   1995-02-24  2000-07-29             UR       7725637.0  \n",
      "4         100   1995-09-22  2000-07-29             UR       3999515.0  \n",
      "5         100   1995-10-30  1995-10-30             UR       2722230.0  \n",
      "6         100   1995-10-17  2000-07-29             UR       2722230.0  \n",
      "7         100   1995-11-23  1995-11-23             UR      13240077.0  \n",
      "8         100   1995-11-03  2000-07-29             UR      13135093.0  \n",
      "9         100   1995-11-20  2000-07-29             UR       3282264.0  \n"
     ]
    },
    {
     "name": "stderr",
     "output_type": "stream",
     "text": [
      "C:\\ProgramData\\Anaconda3\\lib\\site-packages\\IPython\\core\\interactiveshell.py:2785: DtypeWarning: Columns (9) have mixed types. Specify dtype option on import or set low_memory=False.\n",
      "  interactivity=interactivity, compiler=compiler, result=result)\n"
     ]
    }
   ],
   "source": [
    "import pandas\n",
    "filename = \"INMUEBLESTOTALXCUIT_INCREMENTAL.txt\"\n",
    "data = pandas.read_csv(filename, header=0,encoding='latin-1')\n",
    "\n",
    "print(data.shape)\n",
    "print (data.head(10))"
   ]
  },
  {
   "cell_type": "code",
   "execution_count": 97,
   "metadata": {},
   "outputs": [],
   "source": [
    "params=[]\n",
    "statement = \"\"\"\n",
    "UNWIND $parameters as row\n",
    "WITH row\n",
    "MATCH (c:Cuit{CUIT:tostring(row.CUIT)}),(i:Inmueble{INMUEBLE:tostring(row.INMUEBLE)})\n",
    "MERGE (c)-[:POSEE {BASE_IMPONIBLE:tostring(row.BASE_IMPONIBLE), FECHA_FIN:Date(row.FECHA_FIN),FECHA_INICIO:Date(row.FECHA_INICIO), MARCA_BIEN_FAMILIA:row.MARCA_BIEN_FAMILIA, PADRON_DEPARTAMENTO:row.PADRON_DEPARTAMENTO, PADRON_MUNICIPAL:row.PADRON_MUNICIPAL,PORCENTAJE:row.PORCENTAJE, REGIMEN_PROPIEDAD_PH:row.REGIMEN_PROPIEDAD_PH,RESPONSABLE:row.RESPONSABLE, SUP_CUBIERTA:row.SUP_CUBIERTA, SUP_TERRENO:row.SUP_TERRENO, TIPO_PROPIEDAD:row.TIPO_PROPIEDAD, ZONA_PARCELA:row.ZONA_PARCELA}]->(i)\n",
    "\"\"\"\n",
    "\n",
    "with driver.session() as session:\n",
    "    for index, row in data.iterrows(): \n",
    "        params_dict = {\n",
    "            'CUIT' : row ['CUIT'],\n",
    "            'INMUEBLE' : row ['INMUEBLE'],\n",
    "            'BASE_IMPONIBLE' : row ['BASE_IMPONIBLE'],\n",
    "            'FECHA_FIN': row ['FECHA_FIN'],\n",
    "            'FECHA_INICIO' : row ['FECHA_INICIO'],\n",
    "            'MARCA_BIEN_FAMILIA' : row ['MARCA_BIEN_FAMILIA'],\n",
    "            'PADRON_DEPARTAMENTO' : row ['PADRON_DEPARTAMENTO'],\n",
    "            'PADRON_MUNICIPAL' : row ['PADRON_MUNICIPAL'],\n",
    "            'PORCENTAJE' : row ['PORCENTAJE'],\n",
    "            'REGIMEN_PROPIEDAD_PH' : row ['REGIMEN_PROPIEDAD_PH'],\n",
    "            'RESPONSABLE' : row ['RESPONSABLE'],\n",
    "            'SUP_CUBIERTA' : row ['SUP_CUBIERTA'],\n",
    "            'SUP_TERRENO' : row ['SUP_TERRENO'],\n",
    "            'TIPO_PROPIEDAD' : row ['TIPO_PROPIEDAD'],\n",
    "            'ZONA_PARCELA' : row ['ZONA_PARCELA']\n",
    "        }\n",
    "        params.append(params_dict)\n",
    "        if index % 20 == 0 and index > 0: \n",
    "            session.run(statement, parameters = {'parameters':params})\n",
    "            params=[]  \n",
    "        session.run(statement, parameters = {'parameters':params})\n",
    "    session.close() "
   ]
  },
  {
   "cell_type": "code",
   "execution_count": 98,
   "metadata": {},
   "outputs": [],
   "source": [
    "from neo4j import GraphDatabase\n",
    "uri = \"neo4j://localhost:7687\"\n",
    "driver = GraphDatabase.driver(uri, auth=(\"neo4j\", \"Sistemas2021\"))"
   ]
  },
  {
   "cell_type": "code",
   "execution_count": 99,
   "metadata": {},
   "outputs": [
    {
     "name": "stdout",
     "output_type": "stream",
     "text": [
      "(365077, 3)\n",
      "  OVP_ATR_DOMINIO  VALUACION      TIPO_VEHICULO\n",
      "0          AZP034        NaN        AUTOMOVILES\n",
      "1          NBU300  1390824.0        AUTOMOVILES\n",
      "2         AE808JZ  2077900.0        AUTOMOVILES\n",
      "3          KHE097   627054.0        AUTOMOVILES\n",
      "4         A134ZLW   160380.0              MOTOS\n",
      "5          055KZS        NaN              MOTOS\n",
      "6         A144VBJ   391200.0              MOTOS\n",
      "7         AA310GG  1417500.0        AUTOMOVILES\n",
      "8         AE626YI  3038000.0        AUTOMOVILES\n",
      "9         AE467VX  6810578.0  CAMIONETAS PICKUP\n"
     ]
    }
   ],
   "source": [
    "import pandas\n",
    "filename = \"AUTOMOTORES_INCREMENTAL.txt\"\n",
    "data = pandas.read_csv(filename, header=0,encoding='latin-1')\n",
    "\n",
    "print(data.shape)\n",
    "print (data.head(10))"
   ]
  },
  {
   "cell_type": "code",
   "execution_count": 100,
   "metadata": {},
   "outputs": [],
   "source": [
    "params=[]\n",
    "statement = \"\"\"\n",
    "UNWIND $parameters as row\n",
    "WITH row\n",
    "MERGE (a:Automotor {AUTOMOTOR:row.OVP_ATR_DOMINIO})\n",
    "ON CREATE SET\n",
    "    a.AUTOMOTOR = row.OVP_ATR_DOMINIO, a.VALUACION=tostring(row.VALUACION), a.TIPO_VEHICULO = row.TIPO_VEHICULO\n",
    "\"\"\"\n",
    "\n",
    "with driver.session() as session:\n",
    "    for index, row in data.iterrows(): \n",
    "        params_dict = {\n",
    "            'OVP_ATR_DOMINIO' : row ['OVP_ATR_DOMINIO'],\n",
    "            'VALUACION' : str(row ['VALUACION']),\n",
    "            'TIPO_VEHICULO': row ['TIPO_VEHICULO']\n",
    "        }\n",
    "        params.append(params_dict)\n",
    "        if index % 20 == 0 and index > 0: \n",
    "            session.run(statement, parameters = {'parameters':params})\n",
    "            params=[]  \n",
    "        session.run(statement, parameters = {'parameters':params})\n",
    "    session.close() "
   ]
  },
  {
   "cell_type": "code",
   "execution_count": 101,
   "metadata": {},
   "outputs": [],
   "source": [
    "from neo4j import GraphDatabase\n",
    "uri = \"neo4j://localhost:7687\"\n",
    "driver = GraphDatabase.driver(uri, auth=(\"neo4j\", \"Sistemas2021\"))"
   ]
  },
  {
   "cell_type": "code",
   "execution_count": 102,
   "metadata": {},
   "outputs": [
    {
     "name": "stdout",
     "output_type": "stream",
     "text": [
      "(376092, 3)\n",
      "          CUIT  PATENTE  PORCENTAJE\n",
      "0  30669192637  AF088AF         100\n",
      "1  27202455323  AE480OV         100\n",
      "2  27336678167  A154SPG         100\n",
      "3  27285837710   376HDI         100\n",
      "4  20164114539  A150KKA         100\n",
      "5  20304746166   COV137         100\n",
      "6  20288543993  AF027KK         100\n",
      "7  27322042294  AF199IH         100\n",
      "8  23436102259   888HAQ         100\n",
      "9  20415994606   573CZB         100\n"
     ]
    }
   ],
   "source": [
    "import pandas\n",
    "filename = \"AUTOMOTORESXCUIT_INCREMENTAL.txt\"\n",
    "data = pandas.read_csv(filename, header=0,encoding='latin-1')\n",
    "\n",
    "print(data.shape)\n",
    "print (data.head(10))"
   ]
  },
  {
   "cell_type": "code",
   "execution_count": 103,
   "metadata": {},
   "outputs": [],
   "source": [
    "params=[]\n",
    "statement = \"\"\"\n",
    "UNWIND $parameters as row\n",
    "WITH row\n",
    "MATCH (c:Cuit{CUIT:tostring(row.CUIT)}),(a:Automotor{AUTOMOTOR:row.PATENTE})\n",
    "MERGE (c)-[:POSEE {PORCENTAJE:tostring(row.PORCENTAJE)}]->(a)\n",
    "\"\"\"\n",
    "\n",
    "with driver.session() as session:\n",
    "    for index, row in data.iterrows(): \n",
    "        params_dict = {\n",
    "            'CUIT' : int(row ['CUIT']),\n",
    "            'PATENTE' : row ['PATENTE'],\n",
    "            'PORCENTAJE' : row ['PORCENTAJE']\n",
    "        }\n",
    "        params.append(params_dict)\n",
    "        if index % 20 == 0 and index > 0: \n",
    "            session.run(statement, parameters = {'parameters':params})\n",
    "            params=[]  \n",
    "        session.run(statement, parameters = {'parameters':params})\n",
    "    session.close()"
   ]
  },
  {
   "cell_type": "code",
   "execution_count": null,
   "metadata": {},
   "outputs": [],
   "source": []
  }
 ],
 "metadata": {
  "kernelspec": {
   "display_name": "Python 3",
   "language": "python",
   "name": "python3"
  },
  "language_info": {
   "codemirror_mode": {
    "name": "ipython",
    "version": 3
   },
   "file_extension": ".py",
   "mimetype": "text/x-python",
   "name": "python",
   "nbconvert_exporter": "python",
   "pygments_lexer": "ipython3",
   "version": "3.7.0"
  }
 },
 "nbformat": 4,
 "nbformat_minor": 2
}
